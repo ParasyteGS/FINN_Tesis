{
 "cells": [
  {
   "cell_type": "code",
   "execution_count": 7,
   "id": "f02ef38f-172f-423d-8221-4bd9b8b0dced",
   "metadata": {},
   "outputs": [
    {
     "name": "stdout",
     "output_type": "stream",
     "text": [
      "Predicción: bird\n",
      "0\n"
     ]
    }
   ],
   "source": [
    "import numpy as np\n",
    "out = np.load(\"output.npy\")\n",
    "pred_class_index = np.argmax(out, axis=1)[0]  # Devuelve 0 o 1\n",
    "classes = [\"bird\", \"no_bird\"]\n",
    "print(\"Predicción:\", classes[pred_class_index])\n",
    "print(pred_class_index)\n"
   ]
  },
  {
   "cell_type": "markdown",
   "id": "e114be11-2d5d-4130-ae20-eb1fb98ca14a",
   "metadata": {},
   "source": [
    "imagen(original) -> convert npy(tamaño original), npy(procesado) -> acelerador darle npy(procesado) -> obtener prediccion -> eliminamos npy(procesado) -> no prediccion correcta -> eliminamos npy(todos) e imagne original\n",
    "-> precision correcta -> eliminamos imagen orignal y guardamos el npy(original)\n"
   ]
  }
 ],
 "metadata": {
  "kernelspec": {
   "display_name": "Python 3 (ipykernel)",
   "language": "python",
   "name": "python3"
  },
  "language_info": {
   "codemirror_mode": {
    "name": "ipython",
    "version": 3
   },
   "file_extension": ".py",
   "mimetype": "text/x-python",
   "name": "python",
   "nbconvert_exporter": "python",
   "pygments_lexer": "ipython3",
   "version": "3.10.12"
  }
 },
 "nbformat": 4,
 "nbformat_minor": 5
}
